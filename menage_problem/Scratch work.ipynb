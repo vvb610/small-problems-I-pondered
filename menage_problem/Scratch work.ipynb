{
 "cells": [
  {
   "cell_type": "code",
   "execution_count": 1,
   "id": "delayed-wings",
   "metadata": {},
   "outputs": [],
   "source": [
    "import math\n",
    "z = math.factorial"
   ]
  },
  {
   "cell_type": "code",
   "execution_count": 4,
   "id": "consecutive-private",
   "metadata": {},
   "outputs": [],
   "source": [
    "def f(n,k):\n",
    "\n",
    "    return ((2*n)/(2*n-k))*comb(2*n-k,k)*z(k)*2*(z(n-k))**2\n",
    "\n",
    "def g(n,k,m):\n",
    "    first = 2 * math.factorial(n-k)\n",
    "    second = math.factorial(k+m)/math.factorial(m)\n",
    "    third = (2*n)/(2*n-(k+m))\n",
    "    fourth = comb(2*n - (k+m),k+m)\n",
    "    fifth = math.factorial(n-(k+m))\n",
    "    return first*second*third*fourth*fifth\n",
    "    \n",
    "    \n",
    "def comb(n,k):\n",
    "    return math.factorial(n) / (math.factorial(k)*math.factorial(n-k))"
   ]
  },
  {
   "cell_type": "code",
   "execution_count": 51,
   "id": "violent-netscape",
   "metadata": {},
   "outputs": [
    {
     "data": {
      "text/plain": [
       "(8.0, 8.0, 8.0)"
      ]
     },
     "execution_count": 51,
     "metadata": {},
     "output_type": "execute_result"
    }
   ],
   "source": [
    "f(2,0),f(2,1),f(2,2)"
   ]
  },
  {
   "cell_type": "code",
   "execution_count": 7,
   "id": "thermal-bottle",
   "metadata": {},
   "outputs": [
    {
     "data": {
      "text/plain": [
       "0.0"
      ]
     },
     "execution_count": 7,
     "metadata": {},
     "output_type": "execute_result"
    }
   ],
   "source": [
    "g(3,1,0)-g(3,1,1)+g(3,1,2)"
   ]
  },
  {
   "cell_type": "code",
   "execution_count": 6,
   "id": "numerical-separation",
   "metadata": {},
   "outputs": [
    {
     "data": {
      "text/plain": [
       "0.0"
      ]
     },
     "execution_count": 6,
     "metadata": {},
     "output_type": "execute_result"
    }
   ],
   "source": [
    "g(2,1,0)-g(2,1,1)"
   ]
  },
  {
   "cell_type": "code",
   "execution_count": 10,
   "id": "intermediate-satisfaction",
   "metadata": {},
   "outputs": [
    {
     "data": {
      "text/plain": [
       "24.0"
      ]
     },
     "execution_count": 10,
     "metadata": {},
     "output_type": "execute_result"
    }
   ],
   "source": [
    "g(3,1,2)"
   ]
  },
  {
   "cell_type": "code",
   "execution_count": 53,
   "id": "still-annual",
   "metadata": {},
   "outputs": [
    {
     "data": {
      "text/plain": [
       "(1152.0, 576.0, 320.0, 192.0, 96.0)"
      ]
     },
     "execution_count": 53,
     "metadata": {},
     "output_type": "execute_result"
    }
   ],
   "source": [
    "f(4,0),f(4,1),f(4,2),f(4,3),f(4,4)"
   ]
  },
  {
   "cell_type": "code",
   "execution_count": 54,
   "id": "vocal-baker",
   "metadata": {},
   "outputs": [
    {
     "data": {
      "text/plain": [
       "(28800.0, 11520.0, 5040.0, 2400.0, 1200.0, 480.0)"
      ]
     },
     "execution_count": 54,
     "metadata": {},
     "output_type": "execute_result"
    }
   ],
   "source": [
    "f(5,0),f(5,1),f(5,2),f(5,3),f(5,4),f(5,5)"
   ]
  },
  {
   "cell_type": "code",
   "execution_count": 2,
   "id": "creative-minneapolis",
   "metadata": {},
   "outputs": [
    {
     "name": "stdout",
     "output_type": "stream",
     "text": [
      "\n",
      "CommandNotFoundError: Your shell has not been properly configured to use 'conda activate'.\n",
      "To initialize your shell, run\n",
      "\n",
      "    $ conda init <SHELL_NAME>\n",
      "\n",
      "Currently supported shells are:\n",
      "  - bash\n",
      "  - fish\n",
      "  - tcsh\n",
      "  - xonsh\n",
      "  - zsh\n",
      "  - powershell\n",
      "\n",
      "See 'conda init --help' for more information and options.\n",
      "\n",
      "IMPORTANT: You may need to close and restart your shell after running 'conda init'.\n",
      "\n",
      "\n",
      "\n",
      "Note: you may need to restart the kernel to use updated packages.\n"
     ]
    }
   ],
   "source": []
  },
  {
   "cell_type": "code",
   "execution_count": 31,
   "id": "dental-substitute",
   "metadata": {},
   "outputs": [
    {
     "ename": "NameError",
     "evalue": "name 'y' is not defined",
     "output_type": "error",
     "traceback": [
      "\u001b[0;31m---------------------------------------------------------------------------\u001b[0m",
      "\u001b[0;31mNameError\u001b[0m                                 Traceback (most recent call last)",
      "\u001b[0;32m<ipython-input-31-9063a9f0e032>\u001b[0m in \u001b[0;36m<module>\u001b[0;34m\u001b[0m\n\u001b[0;32m----> 1\u001b[0;31m \u001b[0my\u001b[0m\u001b[0;34m\u001b[0m\u001b[0;34m\u001b[0m\u001b[0m\n\u001b[0m",
      "\u001b[0;31mNameError\u001b[0m: name 'y' is not defined"
     ]
    }
   ],
   "source": [
    "y"
   ]
  },
  {
   "cell_type": "code",
   "execution_count": null,
   "id": "static-norfolk",
   "metadata": {},
   "outputs": [],
   "source": []
  }
 ],
 "metadata": {
  "kernelspec": {
   "display_name": "Python 3",
   "language": "python",
   "name": "python3"
  },
  "language_info": {
   "codemirror_mode": {
    "name": "ipython",
    "version": 3
   },
   "file_extension": ".py",
   "mimetype": "text/x-python",
   "name": "python",
   "nbconvert_exporter": "python",
   "pygments_lexer": "ipython3",
   "version": "3.6.12"
  }
 },
 "nbformat": 4,
 "nbformat_minor": 5
}
