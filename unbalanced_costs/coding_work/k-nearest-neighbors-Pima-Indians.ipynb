{
 "cells": [
  {
   "cell_type": "markdown",
   "id": "amended-adams",
   "metadata": {},
   "source": [
    "# K-Nearest Neighbors"
   ]
  },
  {
   "cell_type": "code",
   "execution_count": 65,
   "id": "primary-advocate",
   "metadata": {},
   "outputs": [],
   "source": [
    "import numpy as np\n",
    "import pandas as pd\n",
    "import sklearn.metrics as metrics\n",
    "import matplotlib.pyplot as plt\n",
    "from sklearn.model_selection import train_test_split\n",
    "from scipy.stats import zscore\n",
    "from sklearn.neighbors import KernelDensity\n",
    "from sklearn.neighbors import KNeighborsClassifier"
   ]
  },
  {
   "cell_type": "code",
   "execution_count": 66,
   "id": "straight-repair",
   "metadata": {},
   "outputs": [],
   "source": [
    "diabetes = pd.read_csv('./Data/pima-indians-diabetes-cleaned.csv')"
   ]
  },
  {
   "cell_type": "code",
   "execution_count": 67,
   "id": "enclosed-release",
   "metadata": {},
   "outputs": [],
   "source": [
    "feature_cols = ['times_pregnant', 'glucose_concentration', 'blood_pressure', 'Triceps_skinfold_thickness',\n",
    "              '2_Hour_serum_insulin', 'BMI', 'diabetes_pedigree_function', 'Age']\n",
    "outcome_col = 'Class_Variable'"
   ]
  },
  {
   "cell_type": "code",
   "execution_count": 68,
   "id": "developmental-morgan",
   "metadata": {},
   "outputs": [],
   "source": [
    "X = diabetes[feature_cols].to_numpy()\n",
    "y = diabetes[outcome_col].to_numpy()"
   ]
  },
  {
   "cell_type": "code",
   "execution_count": 69,
   "id": "amino-chart",
   "metadata": {},
   "outputs": [],
   "source": [
    "X_train, X_test, y_train, y_test = train_test_split(X, y, test_size=0.2, random_state=42)"
   ]
  },
  {
   "cell_type": "code",
   "execution_count": 70,
   "id": "alive-estate",
   "metadata": {},
   "outputs": [],
   "source": [
    "# Standardize the training data\n",
    "means = X_train.mean(axis=0)\n",
    "stds = X_train.std(axis=0)\n",
    "X_train = zscore(X_train, axis=0, ddof=0, nan_policy='propagate')"
   ]
  },
  {
   "cell_type": "code",
   "execution_count": 71,
   "id": "legislative-provider",
   "metadata": {},
   "outputs": [],
   "source": [
    "# Standardize the test data according to the training data\n",
    "for i in range(len(X_test)):\n",
    "    for j in range(len(X_test[i])):\n",
    "        X_test[i][j] = (X_test[i][j] - means[j]) / stds[j] "
   ]
  },
  {
   "cell_type": "code",
   "execution_count": 72,
   "id": "promotional-arlington",
   "metadata": {},
   "outputs": [],
   "source": [
    "# Define Cost Values\n",
    "loss_11 = 100000 # loss associated with correctly assigning class 1\n",
    "loss_10 = 7500000 # loss associated with assigning class 0 when we should assign class 1\n",
    "loss_01 = 100000 # loss associated with assigning class 1 when we should assign class 0\n",
    "loss_00 = 0 # loss associated with correctly assigning class 0"
   ]
  },
  {
   "cell_type": "code",
   "execution_count": 120,
   "id": "particular-skating",
   "metadata": {},
   "outputs": [],
   "source": [
    "n_neighbors = 23"
   ]
  },
  {
   "cell_type": "markdown",
   "id": "adjustable-provincial",
   "metadata": {},
   "source": [
    "### K-Nearest Neighbors with our prediction threshold- no reweighting"
   ]
  },
  {
   "cell_type": "code",
   "execution_count": 121,
   "id": "electoral-ranch",
   "metadata": {},
   "outputs": [],
   "source": [
    "class KNearestNeighborsBinaryMod(KNeighborsClassifier):\n",
    "    def __init__(self, loss_11, loss_10, loss_01, loss_00, **kwds):\n",
    "        super().__init__(**kwds)\n",
    "        \n",
    "        # comes from equation 8 in the writeup\n",
    "        self.loss_11 = loss_11\n",
    "        self.loss_10 = loss_10\n",
    "        self.loss_01 = loss_01\n",
    "        self.loss_00 = loss_00\n",
    "        self.threshold = (loss_01 - loss_00) / ((loss_01 - loss_00) + (loss_10 - loss_11))\n",
    "        print(f\"self.threshold: {self.threshold}\")\n",
    "    \n",
    "    # override the predict function to predict according to our threshold\n",
    "    def predict(self, X):\n",
    "        probs = self.predict_proba(X)\n",
    "        predictions = [1 if probs[i][1] >= self.threshold else 0 for i in range(len(probs))]\n",
    "        return predictions\n",
    "    \n",
    "\n",
    "    # write a score function that will calculate the score of classifications given our costs\n",
    "    def score_with_costs(self, X, y, sample_weight=None):\n",
    "        y_pred = self.predict(X)\n",
    "        \n",
    "        give_loss_vectorized = np.vectorize(self.give_loss)\n",
    "        losses = give_loss_vectorized(y, y_pred)\n",
    "        \n",
    "        return np.average(losses, weights=sample_weight)\n",
    "        \n",
    "        \n",
    "    def give_loss(self, y, y_pred):\n",
    "        if y == 1 and y_pred == 1:\n",
    "            return self.loss_11\n",
    "        elif y == 1 and y_pred == 0:\n",
    "            return self.loss_10\n",
    "        elif y == 0 and y_pred == 1:\n",
    "            return self.loss_01\n",
    "        elif y == 0 and y_pred == 0:\n",
    "            return self.loss_00\n",
    "        else:\n",
    "            raise Exception(f\"Expected y: {y} and y_pred: {y_pred} to equal to 0 or 1\")"
   ]
  },
  {
   "cell_type": "code",
   "execution_count": 122,
   "id": "involved-swiss",
   "metadata": {},
   "outputs": [
    {
     "name": "stdout",
     "output_type": "stream",
     "text": [
      "self.threshold: 0.013333333333333334\n"
     ]
    }
   ],
   "source": [
    "knn_cost_sensitive = KNearestNeighborsBinaryMod(loss_11, loss_10, loss_01, loss_00, weights=\"distance\", n_neighbors=n_neighbors)\n",
    "knn_cost_sensitive.fit(X_train, y_train)\n",
    "knn_cost_sensitive_pred = knn_cost_sensitive.predict(X_test)\n"
   ]
  },
  {
   "cell_type": "code",
   "execution_count": 123,
   "id": "brown-craps",
   "metadata": {},
   "outputs": [
    {
     "name": "stdout",
     "output_type": "stream",
     "text": [
      "confusion matrix: [16 81  1 56]\n",
      "precision: 0.40875912408759124\n",
      "recall: 0.9824561403508771\n"
     ]
    }
   ],
   "source": [
    "# Confusion Matrix (TN, FP, FN, TP) for cost-sensitive\n",
    "cm = metrics.confusion_matrix(y_test, knn_cost_sensitive_pred).ravel()\n",
    "print(f\"confusion matrix: {cm}\")\n",
    "print(f\"precision: {cm[3] / (cm[3] + cm[1])}\")\n",
    "print(f\"recall: {cm[3] / (cm[3] + cm[2])}\")"
   ]
  },
  {
   "cell_type": "code",
   "execution_count": 124,
   "id": "mature-gossip",
   "metadata": {},
   "outputs": [
    {
     "data": {
      "text/plain": [
       "137662.33766233767"
      ]
     },
     "execution_count": 124,
     "metadata": {},
     "output_type": "execute_result"
    }
   ],
   "source": [
    "knn_cost_sensitive.score_with_costs(X_test, y_test)"
   ]
  },
  {
   "cell_type": "code",
   "execution_count": 125,
   "id": "essential-minute",
   "metadata": {},
   "outputs": [
    {
     "data": {
      "text/plain": [
       "0.4675324675324675"
      ]
     },
     "execution_count": 125,
     "metadata": {},
     "output_type": "execute_result"
    }
   ],
   "source": [
    "knn_cost_sensitive.score(X_test, y_test)"
   ]
  },
  {
   "cell_type": "code",
   "execution_count": null,
   "id": "announced-nicaragua",
   "metadata": {},
   "outputs": [],
   "source": []
  },
  {
   "cell_type": "markdown",
   "id": "atmospheric-ocean",
   "metadata": {},
   "source": [
    "### K-Nearest Neighbors with standard prediction threshold of 0.5- no reweighting"
   ]
  },
  {
   "cell_type": "code",
   "execution_count": 126,
   "id": "vocal-photograph",
   "metadata": {},
   "outputs": [],
   "source": [
    "class KNearestNeighborsJustScore(KNeighborsClassifier):\n",
    "    def __init__(self, loss_11, loss_10, loss_01, loss_00, **kwds):\n",
    "        super().__init__(**kwds)\n",
    "        \n",
    "        # comes from equation 8 in the writeup\n",
    "        self.loss_11 = loss_11\n",
    "        self.loss_10 = loss_10\n",
    "        self.loss_01 = loss_01\n",
    "        self.loss_00 = loss_00\n",
    "\n",
    "        \n",
    "    # write a score function that will calculate the score of classifications given our costs\n",
    "    def score_with_costs(self, X, y, sample_weight=None):\n",
    "        y_pred = self.predict(X)\n",
    "        \n",
    "        give_loss_vectorized = np.vectorize(self.give_loss)\n",
    "        losses = give_loss_vectorized(y, y_pred)\n",
    "        \n",
    "        return np.average(losses, weights=sample_weight)\n",
    "        \n",
    "        \n",
    "    def give_loss(self, y, y_pred):\n",
    "        if y == 1 and y_pred == 1:\n",
    "            return self.loss_11\n",
    "        elif y == 1 and y_pred == 0:\n",
    "            return self.loss_10\n",
    "        elif y == 0 and y_pred == 1:\n",
    "            return self.loss_01\n",
    "        elif y == 0 and y_pred == 0:\n",
    "            return self.loss_00\n",
    "        else:\n",
    "            raise Exception(f\"Expected y: {y} and y_pred: {y_pred} to equal to 0 or 1\")"
   ]
  },
  {
   "cell_type": "code",
   "execution_count": 139,
   "id": "english-expense",
   "metadata": {},
   "outputs": [],
   "source": [
    "knn_noncost_sensitive = KNearestNeighborsJustScore(loss_11, loss_10, loss_01, loss_00, weights=\"distance\", n_neighbors=n_neighbors)\n",
    "knn_noncost_sensitive.fit(X_train, y_train)\n",
    "knn_noncost_sensitive_pred = knn_noncost_sensitive.predict(X_test)\n"
   ]
  },
  {
   "cell_type": "code",
   "execution_count": 140,
   "id": "wound-lounge",
   "metadata": {},
   "outputs": [
    {
     "name": "stdout",
     "output_type": "stream",
     "text": [
      "confusion matrix: [84 13 32 25]\n",
      "precision: 0.6578947368421053\n",
      "recall: 0.43859649122807015\n"
     ]
    }
   ],
   "source": [
    "# Confusion Matrix (TN, FP, FN, TP) for non cost-sensitive\n",
    "cm = metrics.confusion_matrix(y_test, knn_noncost_sensitive_pred).ravel()\n",
    "print(f\"confusion matrix: {cm}\")\n",
    "print(f\"precision: {cm[3] / (cm[3] + cm[1])}\")\n",
    "print(f\"recall: {cm[3] / (cm[3] + cm[2])}\")"
   ]
  },
  {
   "cell_type": "code",
   "execution_count": 141,
   "id": "hidden-edition",
   "metadata": {},
   "outputs": [
    {
     "data": {
      "text/plain": [
       "1583116.8831168832"
      ]
     },
     "execution_count": 141,
     "metadata": {},
     "output_type": "execute_result"
    }
   ],
   "source": [
    "knn_noncost_sensitive.score_with_costs(X_test, y_test)"
   ]
  },
  {
   "cell_type": "markdown",
   "id": "advance-monaco",
   "metadata": {},
   "source": []
  },
  {
   "cell_type": "code",
   "execution_count": 142,
   "id": "guilty-roller",
   "metadata": {},
   "outputs": [
    {
     "data": {
      "text/plain": [
       "0.7077922077922078"
      ]
     },
     "execution_count": 142,
     "metadata": {},
     "output_type": "execute_result"
    }
   ],
   "source": [
    "knn_noncost_sensitive.score(X_test, y_test)"
   ]
  },
  {
   "cell_type": "code",
   "execution_count": null,
   "id": "aquatic-hawaii",
   "metadata": {},
   "outputs": [],
   "source": []
  },
  {
   "cell_type": "markdown",
   "id": "marked-refrigerator",
   "metadata": {},
   "source": [
    "### K-Nearest Neighbors with standard prediction threshold of 0.5- reweighting (according to Elkan)"
   ]
  },
  {
   "cell_type": "code",
   "execution_count": 138,
   "id": "technical-comfort",
   "metadata": {},
   "outputs": [
    {
     "name": "stdout",
     "output_type": "stream",
     "text": [
      "[[1.09415058 1.15666594 1.18415828 ... 2.00675788 2.01454582 2.02602787]\n",
      " [0.91383176 1.10189594 1.14307455 ... 1.84216929 1.86037359 1.86674163]\n",
      " [1.10437252 1.22049204 1.30522451 ... 1.63486582 1.66674378 1.67617609]\n",
      " ...\n",
      " [1.20879598 1.27828311 1.37640333 ... 1.87406582 1.88232718 1.88395121]\n",
      " [0.9128946  0.9683628  1.01558017 ... 1.64204109 1.67223678 1.69535962]\n",
      " [0.66469323 0.94599307 1.154822   ... 1.64052076 1.64219412 1.64747216]]\n"
     ]
    },
    {
     "ename": "ValueError",
     "evalue": "The truth value of an array with more than one element is ambiguous. Use a.any() or a.all()",
     "output_type": "error",
     "traceback": [
      "\u001b[0;31m---------------------------------------------------------------------------\u001b[0m",
      "\u001b[0;31mValueError\u001b[0m                                Traceback (most recent call last)",
      "\u001b[0;32m<ipython-input-138-88277a6cf605>\u001b[0m in \u001b[0;36m<module>\u001b[0;34m\u001b[0m\n\u001b[1;32m     11\u001b[0m \u001b[0mknn_noncost_sensitive_reweight\u001b[0m \u001b[0;34m=\u001b[0m \u001b[0mKNearestNeighborsJustScore\u001b[0m\u001b[0;34m(\u001b[0m\u001b[0mloss_11\u001b[0m\u001b[0;34m,\u001b[0m \u001b[0mloss_10\u001b[0m\u001b[0;34m,\u001b[0m \u001b[0mloss_01\u001b[0m\u001b[0;34m,\u001b[0m \u001b[0mloss_00\u001b[0m\u001b[0;34m,\u001b[0m \u001b[0mweights\u001b[0m\u001b[0;34m=\u001b[0m\u001b[0mweights\u001b[0m\u001b[0;34m,\u001b[0m \u001b[0mn_neighbors\u001b[0m\u001b[0;34m=\u001b[0m\u001b[0mn_neighbors\u001b[0m\u001b[0;34m)\u001b[0m\u001b[0;34m\u001b[0m\u001b[0;34m\u001b[0m\u001b[0m\n\u001b[1;32m     12\u001b[0m \u001b[0mknn_noncost_sensitive_reweight\u001b[0m\u001b[0;34m.\u001b[0m\u001b[0mfit\u001b[0m\u001b[0;34m(\u001b[0m\u001b[0mX_train\u001b[0m\u001b[0;34m,\u001b[0m \u001b[0my_train\u001b[0m\u001b[0;34m)\u001b[0m\u001b[0;34m\u001b[0m\u001b[0;34m\u001b[0m\u001b[0m\n\u001b[0;32m---> 13\u001b[0;31m \u001b[0mknn_noncost_sensitive_reweight_pred\u001b[0m \u001b[0;34m=\u001b[0m \u001b[0mknn_noncost_sensitive_reweight\u001b[0m\u001b[0;34m.\u001b[0m\u001b[0mpredict\u001b[0m\u001b[0;34m(\u001b[0m\u001b[0mX_test\u001b[0m\u001b[0;34m)\u001b[0m\u001b[0;34m\u001b[0m\u001b[0;34m\u001b[0m\u001b[0m\n\u001b[0m",
      "\u001b[0;32m~/anaconda3/lib/python3.6/site-packages/sklearn/neighbors/_classification.py\u001b[0m in \u001b[0;36mpredict\u001b[0;34m(self, X)\u001b[0m\n\u001b[1;32m    204\u001b[0m         \u001b[0mn_outputs\u001b[0m \u001b[0;34m=\u001b[0m \u001b[0mlen\u001b[0m\u001b[0;34m(\u001b[0m\u001b[0mclasses_\u001b[0m\u001b[0;34m)\u001b[0m\u001b[0;34m\u001b[0m\u001b[0;34m\u001b[0m\u001b[0m\n\u001b[1;32m    205\u001b[0m         \u001b[0mn_queries\u001b[0m \u001b[0;34m=\u001b[0m \u001b[0m_num_samples\u001b[0m\u001b[0;34m(\u001b[0m\u001b[0mX\u001b[0m\u001b[0;34m)\u001b[0m\u001b[0;34m\u001b[0m\u001b[0;34m\u001b[0m\u001b[0m\n\u001b[0;32m--> 206\u001b[0;31m         \u001b[0mweights\u001b[0m \u001b[0;34m=\u001b[0m \u001b[0m_get_weights\u001b[0m\u001b[0;34m(\u001b[0m\u001b[0mneigh_dist\u001b[0m\u001b[0;34m,\u001b[0m \u001b[0mself\u001b[0m\u001b[0;34m.\u001b[0m\u001b[0mweights\u001b[0m\u001b[0;34m)\u001b[0m\u001b[0;34m\u001b[0m\u001b[0;34m\u001b[0m\u001b[0m\n\u001b[0m\u001b[1;32m    207\u001b[0m \u001b[0;34m\u001b[0m\u001b[0m\n\u001b[1;32m    208\u001b[0m         \u001b[0my_pred\u001b[0m \u001b[0;34m=\u001b[0m \u001b[0mnp\u001b[0m\u001b[0;34m.\u001b[0m\u001b[0mempty\u001b[0m\u001b[0;34m(\u001b[0m\u001b[0;34m(\u001b[0m\u001b[0mn_queries\u001b[0m\u001b[0;34m,\u001b[0m \u001b[0mn_outputs\u001b[0m\u001b[0;34m)\u001b[0m\u001b[0;34m,\u001b[0m \u001b[0mdtype\u001b[0m\u001b[0;34m=\u001b[0m\u001b[0mclasses_\u001b[0m\u001b[0;34m[\u001b[0m\u001b[0;36m0\u001b[0m\u001b[0;34m]\u001b[0m\u001b[0;34m.\u001b[0m\u001b[0mdtype\u001b[0m\u001b[0;34m)\u001b[0m\u001b[0;34m\u001b[0m\u001b[0;34m\u001b[0m\u001b[0m\n",
      "\u001b[0;32m~/anaconda3/lib/python3.6/site-packages/sklearn/neighbors/_base.py\u001b[0m in \u001b[0;36m_get_weights\u001b[0;34m(dist, weights)\u001b[0m\n\u001b[1;32m    107\u001b[0m         \u001b[0;32mreturn\u001b[0m \u001b[0mdist\u001b[0m\u001b[0;34m\u001b[0m\u001b[0;34m\u001b[0m\u001b[0m\n\u001b[1;32m    108\u001b[0m     \u001b[0;32melif\u001b[0m \u001b[0mcallable\u001b[0m\u001b[0;34m(\u001b[0m\u001b[0mweights\u001b[0m\u001b[0;34m)\u001b[0m\u001b[0;34m:\u001b[0m\u001b[0;34m\u001b[0m\u001b[0;34m\u001b[0m\u001b[0m\n\u001b[0;32m--> 109\u001b[0;31m         \u001b[0;32mreturn\u001b[0m \u001b[0mweights\u001b[0m\u001b[0;34m(\u001b[0m\u001b[0mdist\u001b[0m\u001b[0;34m)\u001b[0m\u001b[0;34m\u001b[0m\u001b[0;34m\u001b[0m\u001b[0m\n\u001b[0m\u001b[1;32m    110\u001b[0m     \u001b[0;32melse\u001b[0m\u001b[0;34m:\u001b[0m\u001b[0;34m\u001b[0m\u001b[0;34m\u001b[0m\u001b[0m\n\u001b[1;32m    111\u001b[0m         raise ValueError(\"weights not recognized: should be 'uniform', \"\n",
      "\u001b[0;32m<ipython-input-138-88277a6cf605>\u001b[0m in \u001b[0;36mweights\u001b[0;34m(ys)\u001b[0m\n\u001b[1;32m      4\u001b[0m     \u001b[0mprint\u001b[0m\u001b[0;34m(\u001b[0m\u001b[0mys\u001b[0m\u001b[0;34m)\u001b[0m\u001b[0;34m\u001b[0m\u001b[0;34m\u001b[0m\u001b[0m\n\u001b[1;32m      5\u001b[0m     \u001b[0;32mfor\u001b[0m \u001b[0my\u001b[0m \u001b[0;32min\u001b[0m \u001b[0mys\u001b[0m\u001b[0;34m:\u001b[0m\u001b[0;34m\u001b[0m\u001b[0;34m\u001b[0m\u001b[0m\n\u001b[0;32m----> 6\u001b[0;31m         \u001b[0;32mif\u001b[0m \u001b[0my\u001b[0m \u001b[0;34m==\u001b[0m \u001b[0;36m0\u001b[0m\u001b[0;34m:\u001b[0m\u001b[0;34m\u001b[0m\u001b[0;34m\u001b[0m\u001b[0m\n\u001b[0m\u001b[1;32m      7\u001b[0m             \u001b[0mws\u001b[0m\u001b[0;34m.\u001b[0m\u001b[0mappend\u001b[0m\u001b[0;34m(\u001b[0m\u001b[0mw\u001b[0m\u001b[0;34m)\u001b[0m\u001b[0;34m\u001b[0m\u001b[0;34m\u001b[0m\u001b[0m\n\u001b[1;32m      8\u001b[0m         \u001b[0;32melse\u001b[0m\u001b[0;34m:\u001b[0m\u001b[0;34m\u001b[0m\u001b[0;34m\u001b[0m\u001b[0m\n",
      "\u001b[0;31mValueError\u001b[0m: The truth value of an array with more than one element is ambiguous. Use a.any() or a.all()"
     ]
    }
   ],
   "source": [
    "w = 0.013 / (1-0.013)\n",
    "def weights(ys):\n",
    "    ws = []\n",
    "    print(ys)\n",
    "    for y in ys:\n",
    "        if y == 0:\n",
    "            ws.append(w)\n",
    "        else:\n",
    "            ws.append(1)\n",
    "    return ws\n",
    "knn_noncost_sensitive_reweight = KNearestNeighborsJustScore(loss_11, loss_10, loss_01, loss_00, weights=weights, n_neighbors=n_neighbors)\n",
    "knn_noncost_sensitive_reweight.fit(X_train, y_train)\n",
    "knn_noncost_sensitive_reweight_pred = knn_noncost_sensitive_reweight.predict(X_test)\n"
   ]
  },
  {
   "cell_type": "code",
   "execution_count": 132,
   "id": "adaptive-smith",
   "metadata": {},
   "outputs": [
    {
     "name": "stdout",
     "output_type": "stream",
     "text": [
      "confusion matrix: [16 81  1 56]\n",
      "precision: 0.40875912408759124\n",
      "recall: 0.9824561403508771\n"
     ]
    }
   ],
   "source": [
    "# Confusion Matrix (TN, FP, FN, TP) for non cost-sensitive\n",
    "cm = metrics.confusion_matrix(y_test, knn_noncost_sensitive_reweight_pred).ravel()\n",
    "print(f\"confusion matrix: {cm}\")\n",
    "print(f\"precision: {cm[3] / (cm[3] + cm[1])}\")\n",
    "print(f\"recall: {cm[3] / (cm[3] + cm[2])}\")"
   ]
  },
  {
   "cell_type": "code",
   "execution_count": 133,
   "id": "rental-vertical",
   "metadata": {},
   "outputs": [
    {
     "ename": "ValueError",
     "evalue": "The truth value of an array with more than one element is ambiguous. Use a.any() or a.all()",
     "output_type": "error",
     "traceback": [
      "\u001b[0;31m---------------------------------------------------------------------------\u001b[0m",
      "\u001b[0;31mValueError\u001b[0m                                Traceback (most recent call last)",
      "\u001b[0;32m<ipython-input-133-b5e7184bd942>\u001b[0m in \u001b[0;36m<module>\u001b[0;34m\u001b[0m\n\u001b[0;32m----> 1\u001b[0;31m \u001b[0mknn_noncost_sensitive\u001b[0m\u001b[0;34m.\u001b[0m\u001b[0mscore_with_costs\u001b[0m\u001b[0;34m(\u001b[0m\u001b[0mX_test\u001b[0m\u001b[0;34m,\u001b[0m \u001b[0my_test\u001b[0m\u001b[0;34m)\u001b[0m\u001b[0;34m\u001b[0m\u001b[0;34m\u001b[0m\u001b[0m\n\u001b[0m",
      "\u001b[0;32m<ipython-input-126-0382ba41e31d>\u001b[0m in \u001b[0;36mscore_with_costs\u001b[0;34m(self, X, y, sample_weight)\u001b[0m\n\u001b[1;32m     12\u001b[0m     \u001b[0;31m# write a score function that will calculate the score of classifications given our costs\u001b[0m\u001b[0;34m\u001b[0m\u001b[0;34m\u001b[0m\u001b[0;34m\u001b[0m\u001b[0m\n\u001b[1;32m     13\u001b[0m     \u001b[0;32mdef\u001b[0m \u001b[0mscore_with_costs\u001b[0m\u001b[0;34m(\u001b[0m\u001b[0mself\u001b[0m\u001b[0;34m,\u001b[0m \u001b[0mX\u001b[0m\u001b[0;34m,\u001b[0m \u001b[0my\u001b[0m\u001b[0;34m,\u001b[0m \u001b[0msample_weight\u001b[0m\u001b[0;34m=\u001b[0m\u001b[0;32mNone\u001b[0m\u001b[0;34m)\u001b[0m\u001b[0;34m:\u001b[0m\u001b[0;34m\u001b[0m\u001b[0;34m\u001b[0m\u001b[0m\n\u001b[0;32m---> 14\u001b[0;31m         \u001b[0my_pred\u001b[0m \u001b[0;34m=\u001b[0m \u001b[0mself\u001b[0m\u001b[0;34m.\u001b[0m\u001b[0mpredict\u001b[0m\u001b[0;34m(\u001b[0m\u001b[0mX\u001b[0m\u001b[0;34m)\u001b[0m\u001b[0;34m\u001b[0m\u001b[0;34m\u001b[0m\u001b[0m\n\u001b[0m\u001b[1;32m     15\u001b[0m \u001b[0;34m\u001b[0m\u001b[0m\n\u001b[1;32m     16\u001b[0m         \u001b[0mgive_loss_vectorized\u001b[0m \u001b[0;34m=\u001b[0m \u001b[0mnp\u001b[0m\u001b[0;34m.\u001b[0m\u001b[0mvectorize\u001b[0m\u001b[0;34m(\u001b[0m\u001b[0mself\u001b[0m\u001b[0;34m.\u001b[0m\u001b[0mgive_loss\u001b[0m\u001b[0;34m)\u001b[0m\u001b[0;34m\u001b[0m\u001b[0;34m\u001b[0m\u001b[0m\n",
      "\u001b[0;32m~/anaconda3/lib/python3.6/site-packages/sklearn/neighbors/_classification.py\u001b[0m in \u001b[0;36mpredict\u001b[0;34m(self, X)\u001b[0m\n\u001b[1;32m    204\u001b[0m         \u001b[0mn_outputs\u001b[0m \u001b[0;34m=\u001b[0m \u001b[0mlen\u001b[0m\u001b[0;34m(\u001b[0m\u001b[0mclasses_\u001b[0m\u001b[0;34m)\u001b[0m\u001b[0;34m\u001b[0m\u001b[0;34m\u001b[0m\u001b[0m\n\u001b[1;32m    205\u001b[0m         \u001b[0mn_queries\u001b[0m \u001b[0;34m=\u001b[0m \u001b[0m_num_samples\u001b[0m\u001b[0;34m(\u001b[0m\u001b[0mX\u001b[0m\u001b[0;34m)\u001b[0m\u001b[0;34m\u001b[0m\u001b[0;34m\u001b[0m\u001b[0m\n\u001b[0;32m--> 206\u001b[0;31m         \u001b[0mweights\u001b[0m \u001b[0;34m=\u001b[0m \u001b[0m_get_weights\u001b[0m\u001b[0;34m(\u001b[0m\u001b[0mneigh_dist\u001b[0m\u001b[0;34m,\u001b[0m \u001b[0mself\u001b[0m\u001b[0;34m.\u001b[0m\u001b[0mweights\u001b[0m\u001b[0;34m)\u001b[0m\u001b[0;34m\u001b[0m\u001b[0;34m\u001b[0m\u001b[0m\n\u001b[0m\u001b[1;32m    207\u001b[0m \u001b[0;34m\u001b[0m\u001b[0m\n\u001b[1;32m    208\u001b[0m         \u001b[0my_pred\u001b[0m \u001b[0;34m=\u001b[0m \u001b[0mnp\u001b[0m\u001b[0;34m.\u001b[0m\u001b[0mempty\u001b[0m\u001b[0;34m(\u001b[0m\u001b[0;34m(\u001b[0m\u001b[0mn_queries\u001b[0m\u001b[0;34m,\u001b[0m \u001b[0mn_outputs\u001b[0m\u001b[0;34m)\u001b[0m\u001b[0;34m,\u001b[0m \u001b[0mdtype\u001b[0m\u001b[0;34m=\u001b[0m\u001b[0mclasses_\u001b[0m\u001b[0;34m[\u001b[0m\u001b[0;36m0\u001b[0m\u001b[0;34m]\u001b[0m\u001b[0;34m.\u001b[0m\u001b[0mdtype\u001b[0m\u001b[0;34m)\u001b[0m\u001b[0;34m\u001b[0m\u001b[0;34m\u001b[0m\u001b[0m\n",
      "\u001b[0;32m~/anaconda3/lib/python3.6/site-packages/sklearn/neighbors/_base.py\u001b[0m in \u001b[0;36m_get_weights\u001b[0;34m(dist, weights)\u001b[0m\n\u001b[1;32m    107\u001b[0m         \u001b[0;32mreturn\u001b[0m \u001b[0mdist\u001b[0m\u001b[0;34m\u001b[0m\u001b[0;34m\u001b[0m\u001b[0m\n\u001b[1;32m    108\u001b[0m     \u001b[0;32melif\u001b[0m \u001b[0mcallable\u001b[0m\u001b[0;34m(\u001b[0m\u001b[0mweights\u001b[0m\u001b[0;34m)\u001b[0m\u001b[0;34m:\u001b[0m\u001b[0;34m\u001b[0m\u001b[0;34m\u001b[0m\u001b[0m\n\u001b[0;32m--> 109\u001b[0;31m         \u001b[0;32mreturn\u001b[0m \u001b[0mweights\u001b[0m\u001b[0;34m(\u001b[0m\u001b[0mdist\u001b[0m\u001b[0;34m)\u001b[0m\u001b[0;34m\u001b[0m\u001b[0;34m\u001b[0m\u001b[0m\n\u001b[0m\u001b[1;32m    110\u001b[0m     \u001b[0;32melse\u001b[0m\u001b[0;34m:\u001b[0m\u001b[0;34m\u001b[0m\u001b[0;34m\u001b[0m\u001b[0m\n\u001b[1;32m    111\u001b[0m         raise ValueError(\"weights not recognized: should be 'uniform', \"\n",
      "\u001b[0;32m<ipython-input-131-4d0638fda468>\u001b[0m in \u001b[0;36m<lambda>\u001b[0;34m(y)\u001b[0m\n\u001b[1;32m      1\u001b[0m \u001b[0mw\u001b[0m \u001b[0;34m=\u001b[0m \u001b[0;36m0.013\u001b[0m \u001b[0;34m/\u001b[0m \u001b[0;34m(\u001b[0m\u001b[0;36m1\u001b[0m\u001b[0;34m-\u001b[0m\u001b[0;36m0.013\u001b[0m\u001b[0;34m)\u001b[0m\u001b[0;34m\u001b[0m\u001b[0;34m\u001b[0m\u001b[0m\n\u001b[0;32m----> 2\u001b[0;31m \u001b[0mweights\u001b[0m \u001b[0;34m=\u001b[0m \u001b[0;32mlambda\u001b[0m \u001b[0my\u001b[0m\u001b[0;34m:\u001b[0m \u001b[0mw\u001b[0m \u001b[0;32mif\u001b[0m \u001b[0my\u001b[0m \u001b[0;34m==\u001b[0m \u001b[0;36m0\u001b[0m \u001b[0;32melse\u001b[0m \u001b[0;36m1\u001b[0m\u001b[0;34m\u001b[0m\u001b[0;34m\u001b[0m\u001b[0m\n\u001b[0m\u001b[1;32m      3\u001b[0m \u001b[0mknn_noncost_sensitive\u001b[0m \u001b[0;34m=\u001b[0m \u001b[0mKNearestNeighborsJustScore\u001b[0m\u001b[0;34m(\u001b[0m\u001b[0mloss_11\u001b[0m\u001b[0;34m,\u001b[0m \u001b[0mloss_10\u001b[0m\u001b[0;34m,\u001b[0m \u001b[0mloss_01\u001b[0m\u001b[0;34m,\u001b[0m \u001b[0mloss_00\u001b[0m\u001b[0;34m,\u001b[0m \u001b[0mweights\u001b[0m\u001b[0;34m=\u001b[0m\u001b[0mweights\u001b[0m\u001b[0;34m,\u001b[0m \u001b[0mn_neighbors\u001b[0m\u001b[0;34m=\u001b[0m\u001b[0mn_neighbors\u001b[0m\u001b[0;34m)\u001b[0m\u001b[0;34m\u001b[0m\u001b[0;34m\u001b[0m\u001b[0m\n\u001b[1;32m      4\u001b[0m \u001b[0mknn_noncost_sensitive\u001b[0m\u001b[0;34m.\u001b[0m\u001b[0mfit\u001b[0m\u001b[0;34m(\u001b[0m\u001b[0mX_train\u001b[0m\u001b[0;34m,\u001b[0m \u001b[0my_train\u001b[0m\u001b[0;34m)\u001b[0m\u001b[0;34m\u001b[0m\u001b[0;34m\u001b[0m\u001b[0m\n\u001b[1;32m      5\u001b[0m \u001b[0mknn_noncost_sensitive_pred\u001b[0m \u001b[0;34m=\u001b[0m \u001b[0mknn_cost_sensitive\u001b[0m\u001b[0;34m.\u001b[0m\u001b[0mpredict\u001b[0m\u001b[0;34m(\u001b[0m\u001b[0mX_test\u001b[0m\u001b[0;34m)\u001b[0m\u001b[0;34m\u001b[0m\u001b[0;34m\u001b[0m\u001b[0m\n",
      "\u001b[0;31mValueError\u001b[0m: The truth value of an array with more than one element is ambiguous. Use a.any() or a.all()"
     ]
    }
   ],
   "source": [
    "knn_noncost_sensitive_reweight.score_with_costs(X_test, y_test)"
   ]
  },
  {
   "cell_type": "code",
   "execution_count": 134,
   "id": "present-gasoline",
   "metadata": {},
   "outputs": [
    {
     "ename": "ValueError",
     "evalue": "The truth value of an array with more than one element is ambiguous. Use a.any() or a.all()",
     "output_type": "error",
     "traceback": [
      "\u001b[0;31m---------------------------------------------------------------------------\u001b[0m",
      "\u001b[0;31mValueError\u001b[0m                                Traceback (most recent call last)",
      "\u001b[0;32m<ipython-input-134-bef9457caed4>\u001b[0m in \u001b[0;36m<module>\u001b[0;34m\u001b[0m\n\u001b[0;32m----> 1\u001b[0;31m \u001b[0mknn_noncost_sensitive\u001b[0m\u001b[0;34m.\u001b[0m\u001b[0mscore\u001b[0m\u001b[0;34m(\u001b[0m\u001b[0mX_test\u001b[0m\u001b[0;34m,\u001b[0m \u001b[0my_test\u001b[0m\u001b[0;34m)\u001b[0m\u001b[0;34m\u001b[0m\u001b[0;34m\u001b[0m\u001b[0m\n\u001b[0m",
      "\u001b[0;32m~/anaconda3/lib/python3.6/site-packages/sklearn/base.py\u001b[0m in \u001b[0;36mscore\u001b[0;34m(self, X, y, sample_weight)\u001b[0m\n\u001b[1;32m    498\u001b[0m         \"\"\"\n\u001b[1;32m    499\u001b[0m         \u001b[0;32mfrom\u001b[0m \u001b[0;34m.\u001b[0m\u001b[0mmetrics\u001b[0m \u001b[0;32mimport\u001b[0m \u001b[0maccuracy_score\u001b[0m\u001b[0;34m\u001b[0m\u001b[0;34m\u001b[0m\u001b[0m\n\u001b[0;32m--> 500\u001b[0;31m         \u001b[0;32mreturn\u001b[0m \u001b[0maccuracy_score\u001b[0m\u001b[0;34m(\u001b[0m\u001b[0my\u001b[0m\u001b[0;34m,\u001b[0m \u001b[0mself\u001b[0m\u001b[0;34m.\u001b[0m\u001b[0mpredict\u001b[0m\u001b[0;34m(\u001b[0m\u001b[0mX\u001b[0m\u001b[0;34m)\u001b[0m\u001b[0;34m,\u001b[0m \u001b[0msample_weight\u001b[0m\u001b[0;34m=\u001b[0m\u001b[0msample_weight\u001b[0m\u001b[0;34m)\u001b[0m\u001b[0;34m\u001b[0m\u001b[0;34m\u001b[0m\u001b[0m\n\u001b[0m\u001b[1;32m    501\u001b[0m \u001b[0;34m\u001b[0m\u001b[0m\n\u001b[1;32m    502\u001b[0m     \u001b[0;32mdef\u001b[0m \u001b[0m_more_tags\u001b[0m\u001b[0;34m(\u001b[0m\u001b[0mself\u001b[0m\u001b[0;34m)\u001b[0m\u001b[0;34m:\u001b[0m\u001b[0;34m\u001b[0m\u001b[0;34m\u001b[0m\u001b[0m\n",
      "\u001b[0;32m~/anaconda3/lib/python3.6/site-packages/sklearn/neighbors/_classification.py\u001b[0m in \u001b[0;36mpredict\u001b[0;34m(self, X)\u001b[0m\n\u001b[1;32m    204\u001b[0m         \u001b[0mn_outputs\u001b[0m \u001b[0;34m=\u001b[0m \u001b[0mlen\u001b[0m\u001b[0;34m(\u001b[0m\u001b[0mclasses_\u001b[0m\u001b[0;34m)\u001b[0m\u001b[0;34m\u001b[0m\u001b[0;34m\u001b[0m\u001b[0m\n\u001b[1;32m    205\u001b[0m         \u001b[0mn_queries\u001b[0m \u001b[0;34m=\u001b[0m \u001b[0m_num_samples\u001b[0m\u001b[0;34m(\u001b[0m\u001b[0mX\u001b[0m\u001b[0;34m)\u001b[0m\u001b[0;34m\u001b[0m\u001b[0;34m\u001b[0m\u001b[0m\n\u001b[0;32m--> 206\u001b[0;31m         \u001b[0mweights\u001b[0m \u001b[0;34m=\u001b[0m \u001b[0m_get_weights\u001b[0m\u001b[0;34m(\u001b[0m\u001b[0mneigh_dist\u001b[0m\u001b[0;34m,\u001b[0m \u001b[0mself\u001b[0m\u001b[0;34m.\u001b[0m\u001b[0mweights\u001b[0m\u001b[0;34m)\u001b[0m\u001b[0;34m\u001b[0m\u001b[0;34m\u001b[0m\u001b[0m\n\u001b[0m\u001b[1;32m    207\u001b[0m \u001b[0;34m\u001b[0m\u001b[0m\n\u001b[1;32m    208\u001b[0m         \u001b[0my_pred\u001b[0m \u001b[0;34m=\u001b[0m \u001b[0mnp\u001b[0m\u001b[0;34m.\u001b[0m\u001b[0mempty\u001b[0m\u001b[0;34m(\u001b[0m\u001b[0;34m(\u001b[0m\u001b[0mn_queries\u001b[0m\u001b[0;34m,\u001b[0m \u001b[0mn_outputs\u001b[0m\u001b[0;34m)\u001b[0m\u001b[0;34m,\u001b[0m \u001b[0mdtype\u001b[0m\u001b[0;34m=\u001b[0m\u001b[0mclasses_\u001b[0m\u001b[0;34m[\u001b[0m\u001b[0;36m0\u001b[0m\u001b[0;34m]\u001b[0m\u001b[0;34m.\u001b[0m\u001b[0mdtype\u001b[0m\u001b[0;34m)\u001b[0m\u001b[0;34m\u001b[0m\u001b[0;34m\u001b[0m\u001b[0m\n",
      "\u001b[0;32m~/anaconda3/lib/python3.6/site-packages/sklearn/neighbors/_base.py\u001b[0m in \u001b[0;36m_get_weights\u001b[0;34m(dist, weights)\u001b[0m\n\u001b[1;32m    107\u001b[0m         \u001b[0;32mreturn\u001b[0m \u001b[0mdist\u001b[0m\u001b[0;34m\u001b[0m\u001b[0;34m\u001b[0m\u001b[0m\n\u001b[1;32m    108\u001b[0m     \u001b[0;32melif\u001b[0m \u001b[0mcallable\u001b[0m\u001b[0;34m(\u001b[0m\u001b[0mweights\u001b[0m\u001b[0;34m)\u001b[0m\u001b[0;34m:\u001b[0m\u001b[0;34m\u001b[0m\u001b[0;34m\u001b[0m\u001b[0m\n\u001b[0;32m--> 109\u001b[0;31m         \u001b[0;32mreturn\u001b[0m \u001b[0mweights\u001b[0m\u001b[0;34m(\u001b[0m\u001b[0mdist\u001b[0m\u001b[0;34m)\u001b[0m\u001b[0;34m\u001b[0m\u001b[0;34m\u001b[0m\u001b[0m\n\u001b[0m\u001b[1;32m    110\u001b[0m     \u001b[0;32melse\u001b[0m\u001b[0;34m:\u001b[0m\u001b[0;34m\u001b[0m\u001b[0;34m\u001b[0m\u001b[0m\n\u001b[1;32m    111\u001b[0m         raise ValueError(\"weights not recognized: should be 'uniform', \"\n",
      "\u001b[0;32m<ipython-input-131-4d0638fda468>\u001b[0m in \u001b[0;36m<lambda>\u001b[0;34m(y)\u001b[0m\n\u001b[1;32m      1\u001b[0m \u001b[0mw\u001b[0m \u001b[0;34m=\u001b[0m \u001b[0;36m0.013\u001b[0m \u001b[0;34m/\u001b[0m \u001b[0;34m(\u001b[0m\u001b[0;36m1\u001b[0m\u001b[0;34m-\u001b[0m\u001b[0;36m0.013\u001b[0m\u001b[0;34m)\u001b[0m\u001b[0;34m\u001b[0m\u001b[0;34m\u001b[0m\u001b[0m\n\u001b[0;32m----> 2\u001b[0;31m \u001b[0mweights\u001b[0m \u001b[0;34m=\u001b[0m \u001b[0;32mlambda\u001b[0m \u001b[0my\u001b[0m\u001b[0;34m:\u001b[0m \u001b[0mw\u001b[0m \u001b[0;32mif\u001b[0m \u001b[0my\u001b[0m \u001b[0;34m==\u001b[0m \u001b[0;36m0\u001b[0m \u001b[0;32melse\u001b[0m \u001b[0;36m1\u001b[0m\u001b[0;34m\u001b[0m\u001b[0;34m\u001b[0m\u001b[0m\n\u001b[0m\u001b[1;32m      3\u001b[0m \u001b[0mknn_noncost_sensitive\u001b[0m \u001b[0;34m=\u001b[0m \u001b[0mKNearestNeighborsJustScore\u001b[0m\u001b[0;34m(\u001b[0m\u001b[0mloss_11\u001b[0m\u001b[0;34m,\u001b[0m \u001b[0mloss_10\u001b[0m\u001b[0;34m,\u001b[0m \u001b[0mloss_01\u001b[0m\u001b[0;34m,\u001b[0m \u001b[0mloss_00\u001b[0m\u001b[0;34m,\u001b[0m \u001b[0mweights\u001b[0m\u001b[0;34m=\u001b[0m\u001b[0mweights\u001b[0m\u001b[0;34m,\u001b[0m \u001b[0mn_neighbors\u001b[0m\u001b[0;34m=\u001b[0m\u001b[0mn_neighbors\u001b[0m\u001b[0;34m)\u001b[0m\u001b[0;34m\u001b[0m\u001b[0;34m\u001b[0m\u001b[0m\n\u001b[1;32m      4\u001b[0m \u001b[0mknn_noncost_sensitive\u001b[0m\u001b[0;34m.\u001b[0m\u001b[0mfit\u001b[0m\u001b[0;34m(\u001b[0m\u001b[0mX_train\u001b[0m\u001b[0;34m,\u001b[0m \u001b[0my_train\u001b[0m\u001b[0;34m)\u001b[0m\u001b[0;34m\u001b[0m\u001b[0;34m\u001b[0m\u001b[0m\n\u001b[1;32m      5\u001b[0m \u001b[0mknn_noncost_sensitive_pred\u001b[0m \u001b[0;34m=\u001b[0m \u001b[0mknn_cost_sensitive\u001b[0m\u001b[0;34m.\u001b[0m\u001b[0mpredict\u001b[0m\u001b[0;34m(\u001b[0m\u001b[0mX_test\u001b[0m\u001b[0;34m)\u001b[0m\u001b[0;34m\u001b[0m\u001b[0;34m\u001b[0m\u001b[0m\n",
      "\u001b[0;31mValueError\u001b[0m: The truth value of an array with more than one element is ambiguous. Use a.any() or a.all()"
     ]
    }
   ],
   "source": [
    "knn_noncost_sensitive_reweight.score(X_test, y_test)"
   ]
  },
  {
   "cell_type": "code",
   "execution_count": null,
   "id": "dominant-siemens",
   "metadata": {},
   "outputs": [],
   "source": []
  },
  {
   "cell_type": "code",
   "execution_count": null,
   "id": "after-johnson",
   "metadata": {},
   "outputs": [],
   "source": []
  }
 ],
 "metadata": {
  "kernelspec": {
   "display_name": "Python 3",
   "language": "python",
   "name": "python3"
  },
  "language_info": {
   "codemirror_mode": {
    "name": "ipython",
    "version": 3
   },
   "file_extension": ".py",
   "mimetype": "text/x-python",
   "name": "python",
   "nbconvert_exporter": "python",
   "pygments_lexer": "ipython3",
   "version": "3.6.12"
  }
 },
 "nbformat": 4,
 "nbformat_minor": 5
}
